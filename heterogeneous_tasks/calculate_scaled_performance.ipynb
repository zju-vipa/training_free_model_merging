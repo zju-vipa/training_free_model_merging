{
 "cells": [
  {
   "cell_type": "code",
   "execution_count": 1,
   "metadata": {},
   "outputs": [],
   "source": [
    "import pickle as pkl\n",
    "import numpy as np\n",
    "import matplotlib.pyplot as plt\n",
    "import numpy as np\n",
    "tasks = [\n",
    "    'class_object', 'segment_semantic', 'depth_zbuffer', 'depth_euclidean',\n",
    "    'edge_occlusion', 'edge_texture', 'keypoints2d', 'keypoints3d',\n",
    "   'reshading', 'normal', 'autoencoding', \"denoising\",\n",
    "]\n",
    "def get_task_loss(model_name,root = \"results\"):\n",
    "    with open(f\"{root}/{model_name}/loss.pkl\",\"rb\") as f :\n",
    "        result = pkl.load(f)\n",
    "    return result\n",
    "pretrained = get_task_loss(\"pretrained\")\n",
    "avg_est = get_task_loss(\"avg_estimator\")\n",
    "\n",
    "def scaled_loss(d):\n",
    "    result = {}\n",
    "    for k,v in d.items():\n",
    "        pretrained_losses = pretrained[k.split(\"__\")[1]]\n",
    "        avg_est_losses = avg_est[k.split(\"__\")[1]]\n",
    "        result[k] = sum((avg_est_losses[k_] - v_)/(avg_est_losses[k_] - pretrained_losses[k_]) for k_,v_ in v.items()) / len(v)\n",
    "    return result\n",
    "def get_scaled_loss(d,root):\n",
    "    return scaled_loss(get_task_loss(d,root=root))\n",
    "\n",
    "def get_mean_scaled_loss(d,root):\n",
    "    sl = get_scaled_loss(d,root=root)\n",
    "    return {t:np.mean([v for k,v in sl.items() if k.split(\"__\")[1]==t]).item() for t in tasks}\n"
   ]
  },
  {
   "cell_type": "code",
   "execution_count": 2,
   "metadata": {},
   "outputs": [
    {
     "data": {
      "text/plain": [
       "{'class_object': 0.7615358113676618,\n",
       " 'segment_semantic': 0.23010006953287176,\n",
       " 'depth_zbuffer': 0.9541508670911423,\n",
       " 'depth_euclidean': 0.9456147099655621,\n",
       " 'edge_occlusion': 0.7978722634011534,\n",
       " 'edge_texture': 0.6853653615292074,\n",
       " 'keypoints2d': 0.713335765250933,\n",
       " 'keypoints3d': 0.9153697547094779,\n",
       " 'reshading': -0.047205805277709414,\n",
       " 'normal': 0.26620236655573165,\n",
       " 'autoencoding': 0.21963421750281203,\n",
       " 'denoising': 0.33923787306376646}"
      ]
     },
     "execution_count": 2,
     "metadata": {},
     "output_type": "execute_result"
    }
   ],
   "source": [
    "# Weight Average\n",
    "root = \"results\"\n",
    "get_mean_scaled_loss('avg',root=root)"
   ]
  },
  {
   "cell_type": "code",
   "execution_count": 3,
   "metadata": {},
   "outputs": [
    {
     "data": {
      "text/plain": [
       "{'class_object': 0.8075880675868508,\n",
       " 'segment_semantic': 0.3059279908766519,\n",
       " 'depth_zbuffer': 0.9589844603666637,\n",
       " 'depth_euclidean': 0.9499560914996256,\n",
       " 'edge_occlusion': 0.8044220461254,\n",
       " 'edge_texture': 0.7548331298732179,\n",
       " 'keypoints2d': 0.758928056392942,\n",
       " 'keypoints3d': 0.9198748352283748,\n",
       " 'reshading': 0.08520942467486879,\n",
       " 'normal': 0.2943417589203822,\n",
       " 'autoencoding': 0.3565210836148522,\n",
       " 'denoising': 0.33572755724710934}"
      ]
     },
     "execution_count": 3,
     "metadata": {},
     "output_type": "execute_result"
    }
   ],
   "source": [
    "# Git Rebasin\n",
    "get_mean_scaled_loss('rebasin',root=root)"
   ]
  },
  {
   "cell_type": "code",
   "execution_count": 4,
   "metadata": {},
   "outputs": [
    {
     "data": {
      "text/plain": [
       "{'class_object': 0.848434929254362,\n",
       " 'segment_semantic': 0.3250916841018883,\n",
       " 'depth_zbuffer': 0.9930426178607832,\n",
       " 'depth_euclidean': 0.9908183696735382,\n",
       " 'edge_occlusion': 0.9321687501465202,\n",
       " 'edge_texture': 0.9039269605052752,\n",
       " 'keypoints2d': 0.9337886722500425,\n",
       " 'keypoints3d': 0.9699152144714436,\n",
       " 'reshading': 0.691795305220535,\n",
       " 'normal': 0.7661978843866478,\n",
       " 'autoencoding': 0.8654552318621357,\n",
       " 'denoising': 0.8427764982224537}"
      ]
     },
     "execution_count": 4,
     "metadata": {},
     "output_type": "execute_result"
    }
   ],
   "source": [
    "# Zipit\n",
    "get_mean_scaled_loss('zipit',root=root)"
   ]
  },
  {
   "cell_type": "code",
   "execution_count": 5,
   "metadata": {},
   "outputs": [
    {
     "data": {
      "text/plain": [
       "{'class_object': 0.8093474171352587,\n",
       " 'segment_semantic': 0.3376797889385586,\n",
       " 'depth_zbuffer': 0.9907316512971872,\n",
       " 'depth_euclidean': 0.9858842086431081,\n",
       " 'edge_occlusion': 0.8641808265023556,\n",
       " 'edge_texture': 0.8884642208352621,\n",
       " 'keypoints2d': 0.9362078355999582,\n",
       " 'keypoints3d': 0.959958948524038,\n",
       " 'reshading': 0.41659845933000345,\n",
       " 'normal': 0.6443265354555763,\n",
       " 'autoencoding': 0.7758013041429485,\n",
       " 'denoising': 0.7613877888198105}"
      ]
     },
     "execution_count": 5,
     "metadata": {},
     "output_type": "execute_result"
    }
   ],
   "source": [
    "# W. Zip\n",
    "get_mean_scaled_loss('fusion',root=root)"
   ]
  },
  {
   "cell_type": "code",
   "execution_count": 6,
   "metadata": {},
   "outputs": [
    {
     "data": {
      "text/plain": [
       "{'class_object': 0.8975330036796346,\n",
       " 'segment_semantic': 0.5254480566399045,\n",
       " 'depth_zbuffer': 0.9869499370172694,\n",
       " 'depth_euclidean': 0.982825584193639,\n",
       " 'edge_occlusion': 0.9104288239809574,\n",
       " 'edge_texture': 0.8136515713557816,\n",
       " 'keypoints2d': 0.8199365719517406,\n",
       " 'keypoints3d': 0.9615889806353334,\n",
       " 'reshading': 0.6023281634580644,\n",
       " 'normal': 0.6546176818450707,\n",
       " 'autoencoding': 0.5183615163000184,\n",
       " 'denoising': 0.5236566414334916}"
      ]
     },
     "execution_count": 6,
     "metadata": {},
     "output_type": "execute_result"
    }
   ],
   "source": [
    "# Act. Align\n",
    "root = \"results\"\n",
    "get_mean_scaled_loss(\"fusion_act_useperm\",root=root)"
   ]
  },
  {
   "cell_type": "code",
   "execution_count": 7,
   "metadata": {},
   "outputs": [
    {
     "data": {
      "text/plain": [
       "{'class_object': 0.897527352582955,\n",
       " 'segment_semantic': 0.5523747951170882,\n",
       " 'depth_zbuffer': 0.9870360896630497,\n",
       " 'depth_euclidean': 0.9827820655043588,\n",
       " 'edge_occlusion': 0.9076645644915974,\n",
       " 'edge_texture': 0.8124004655264625,\n",
       " 'keypoints2d': 0.8230468953881211,\n",
       " 'keypoints3d': 0.9617497337829527,\n",
       " 'reshading': 0.6184572588697245,\n",
       " 'normal': 0.6555594954509121,\n",
       " 'autoencoding': 0.5421014003579966,\n",
       " 'denoising': 0.5439886462447906}"
      ]
     },
     "execution_count": 7,
     "metadata": {},
     "output_type": "execute_result"
    }
   ],
   "source": [
    "# MuDSC Align\n",
    "get_mean_scaled_loss(\"fusion_act_iws_fs_useperm\",root=root)"
   ]
  },
  {
   "cell_type": "code",
   "execution_count": 8,
   "metadata": {},
   "outputs": [
    {
     "data": {
      "text/plain": [
       "{'class_object': 0.8604227460410757,\n",
       " 'segment_semantic': 0.36222736147194534,\n",
       " 'depth_zbuffer': 0.9935035949159076,\n",
       " 'depth_euclidean': 0.9915335257908697,\n",
       " 'edge_occlusion': 0.9280970120829906,\n",
       " 'edge_texture': 0.9309025328514121,\n",
       " 'keypoints2d': 0.9473013378736141,\n",
       " 'keypoints3d': 0.9695312655424536,\n",
       " 'reshading': 0.6871080982473624,\n",
       " 'normal': 0.7749773151155516,\n",
       " 'autoencoding': 0.8799445954776046,\n",
       " 'denoising': 0.8549425026289371}"
      ]
     },
     "execution_count": 8,
     "metadata": {},
     "output_type": "execute_result"
    }
   ],
   "source": [
    "# MuDSC Zip\n",
    "get_mean_scaled_loss(\"fusion_act_iws_fs\",root=root)"
   ]
  }
 ],
 "metadata": {
  "kernelspec": {
   "display_name": "ai",
   "language": "python",
   "name": "python3"
  },
  "language_info": {
   "codemirror_mode": {
    "name": "ipython",
    "version": 3
   },
   "file_extension": ".py",
   "mimetype": "text/x-python",
   "name": "python",
   "nbconvert_exporter": "python",
   "pygments_lexer": "ipython3",
   "version": "3.8.18"
  }
 },
 "nbformat": 4,
 "nbformat_minor": 2
}
