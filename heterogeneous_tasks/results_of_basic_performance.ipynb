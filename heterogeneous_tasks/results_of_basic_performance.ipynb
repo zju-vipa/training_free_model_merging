{
 "cells": [
  {
   "cell_type": "code",
   "execution_count": 2,
   "metadata": {},
   "outputs": [
    {
     "name": "stdout",
     "output_type": "stream",
     "text": [
      "{'class_object': 3.1105417639614545, 'segment_semantic': 0.06827587124619947, 'depth_zbuffer': 0.03225679766729153, 'depth_euclidean': 0.02708431011367877, 'edge_occlusion': 0.09609424370838113, 'edge_texture': 0.05188334588801006, 'keypoints2d': 0.041848990764317875, 'keypoints3d': 0.0842103043141931, 'reshading': 0.2803886090270506, 'normal': 0.12411712402386632, 'autoencoding': 0.05880372473136778, 'denoising': 0.053129874004438415}\n",
      "{'class_object': 3.1529696326378116, 'segment_semantic': 0.06468786663354778, 'depth_zbuffer': 0.02243371716590401, 'depth_euclidean': 0.018141190638772405, 'edge_occlusion': 0.09555747844796594, 'edge_texture': 0.06306750342969121, 'keypoints2d': 0.053879533863716675, 'keypoints3d': 0.07858743577472536, 'reshading': 0.2549389792218368, 'normal': 0.11498269961841605, 'autoencoding': 0.07317216263492846, 'denoising': 0.06480792912304176}\n",
      "{'class_object': 6.907494199167135, 'segment_semantic': 0.3194761504966282, 'depth_zbuffer': 0.6394389540060701, 'depth_euclidean': 0.6488181924406037, 'edge_occlusion': 0.8259836725172003, 'edge_texture': 0.7844956158474907, 'keypoints2d': 0.7442226001012741, 'keypoints3d': 0.875384657852871, 'reshading': 0.4752809459259857, 'normal': 0.4375464218470861, 'autoencoding': 0.36940561425924034, 'denoising': 0.36940561425924034}\n"
     ]
    }
   ],
   "source": [
    "import pickle as pkl\n",
    "def avg_task(d):\n",
    "    return {k: sum(v.values())/len(v) for k,v in d.items()}\n",
    "def get_task_loss(model_name,root=\"results\"):\n",
    "    with open(f\"{root}/{model_name}/loss.pkl\",\"rb\") as f :\n",
    "        result = pkl.load(f)\n",
    "    return avg_task(result)\n",
    "print(get_task_loss(\"raw_pretrained\"))\n",
    "print(get_task_loss(\"pretrained\"))\n",
    "print(get_task_loss(\"avg_estimator\"))"
   ]
  },
  {
   "cell_type": "code",
   "execution_count": null,
   "metadata": {},
   "outputs": [],
   "source": []
  }
 ],
 "metadata": {
  "kernelspec": {
   "display_name": "ai",
   "language": "python",
   "name": "python3"
  },
  "language_info": {
   "codemirror_mode": {
    "name": "ipython",
    "version": 3
   },
   "file_extension": ".py",
   "mimetype": "text/x-python",
   "name": "python",
   "nbconvert_exporter": "python",
   "pygments_lexer": "ipython3",
   "version": "3.8.18"
  }
 },
 "nbformat": 4,
 "nbformat_minor": 2
}
